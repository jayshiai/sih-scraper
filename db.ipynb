{
 "cells": [
  {
   "cell_type": "code",
   "execution_count": null,
   "metadata": {},
   "outputs": [],
   "source": [
    "import sqlite3\n",
    "import pandas as pd\n",
    "\n",
    "# Connect to the database\n",
    "conn = sqlite3.connect('advisories.db')\n",
    "\n",
    "# Query the advisories table and load it into a Pandas DataFrame\n",
    "df = pd.read_sql_query('SELECT * FROM advisories', conn)\n",
    "\n",
    "# Display the DataFrame\n",
    "print(df.head())\n",
    "\n",
    "# Close the connection\n",
    "conn.close()\n"
   ]
  },
  {
   "cell_type": "code",
   "execution_count": 4,
   "metadata": {},
   "outputs": [
    {
     "name": "stdout",
     "output_type": "stream",
     "text": [
      "   id                     advisory_id             cve  base_score severity  \\\n",
      "0   1      cisco-sa-ise-rest-5bPKrNtZ  CVE-2024-20417         6.5   MEDIUM   \n",
      "1   2      cisco-sa-cucm-dos-kkHq43We  CVE-2024-20375         8.6     HIGH   \n",
      "2   3       cisco-sa-openssh-rce-2024   CVE-2024-6387         8.1     HIGH   \n",
      "3   4  cisco-sa-ise-info-exp-vdF8Jbyk  CVE-2024-20466         6.5   MEDIUM   \n",
      "4   5      cisco-sa-ise-csrf-y4ZUz5Rj  CVE-2024-20486         6.5   MEDIUM   \n",
      "\n",
      "                                  vector_string version  \n",
      "0  CVSS:3.1/AV:N/AC:L/PR:H/UI:N/S:U/C:H/I:H/A:N     3.1  \n",
      "1  CVSS:3.1/AV:N/AC:L/PR:N/UI:N/S:C/C:N/I:N/A:H     3.1  \n",
      "2  CVSS:3.1/AV:N/AC:H/PR:N/UI:N/S:U/C:H/I:H/A:H     3.1  \n",
      "3  CVSS:3.1/AV:N/AC:L/PR:L/UI:N/S:U/C:H/I:N/A:N     3.1  \n",
      "4  CVSS:3.1/AV:N/AC:L/PR:N/UI:R/S:U/C:N/I:H/A:N     3.1  \n"
     ]
    }
   ],
   "source": [
    "import sqlite3\n",
    "import pandas as pd\n",
    "\n",
    "# Connect to the database\n",
    "conn = sqlite3.connect('advisories.db')\n",
    "\n",
    "# Query the advisories table and load it into a Pandas DataFrame\n",
    "df = pd.read_sql_query('SELECT * FROM vulnerabilities', conn)\n",
    "\n",
    "# Display the DataFrame\n",
    "print(df.head())\n",
    "\n",
    "# Close the connection\n",
    "conn.close()\n"
   ]
  },
  {
   "cell_type": "code",
   "execution_count": 6,
   "metadata": {},
   "outputs": [
    {
     "name": "stdout",
     "output_type": "stream",
     "text": [
      "   id                             product_name  vulnerability_id\n",
      "0   1  Cisco Identity Services Engine Software                 1\n",
      "1   2     Cisco Unified Communications Manager                 2\n",
      "2   3                                  OpenSSH                 3\n",
      "3   4               Red Hat Enterprise Linux 9                 3\n",
      "4   5               Red Hat Enterprise Linux 9                 3\n"
     ]
    }
   ],
   "source": [
    "import sqlite3\n",
    "import pandas as pd\n",
    "\n",
    "# Connect to the database\n",
    "conn = sqlite3.connect('advisories.db')\n",
    "\n",
    "# Query the advisories table and load it into a Pandas DataFrame\n",
    "df = pd.read_sql_query('SELECT * FROM products', conn)\n",
    "\n",
    "# Display the DataFrame\n",
    "print(df.head())\n",
    "\n",
    "# Close the connection\n",
    "conn.close()\n"
   ]
  },
  {
   "cell_type": "code",
   "execution_count": 15,
   "metadata": {},
   "outputs": [
    {
     "name": "stdout",
     "output_type": "stream",
     "text": [
      "0    https://sec.cloudapps.cisco.com/security/cente...\n",
      "Name: source, dtype: object\n"
     ]
    }
   ],
   "source": [
    "import sqlite3\n",
    "import pandas as pd\n",
    "\n",
    "# Connect to the database\n",
    "conn = sqlite3.connect('advisories.db')\n",
    "\n",
    "# Query the advisories table and load it into a Pandas DataFrame\n",
    "df = pd.read_sql_query('SELECT * FROM vendors', conn)\n",
    "\n",
    "# Display the DataFrame\n",
    "print(df[\"source\"])\n",
    "\n",
    "# Close the connection\n",
    "conn.close()\n"
   ]
  },
  {
   "cell_type": "code",
   "execution_count": null,
   "metadata": {},
   "outputs": [],
   "source": []
  }
 ],
 "metadata": {
  "kernelspec": {
   "display_name": "Python 3",
   "language": "python",
   "name": "python3"
  },
  "language_info": {
   "codemirror_mode": {
    "name": "ipython",
    "version": 3
   },
   "file_extension": ".py",
   "mimetype": "text/x-python",
   "name": "python",
   "nbconvert_exporter": "python",
   "pygments_lexer": "ipython3",
   "version": "3.10.11"
  }
 },
 "nbformat": 4,
 "nbformat_minor": 2
}
